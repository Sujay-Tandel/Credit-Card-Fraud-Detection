{
 "cells": [
  {
   "cell_type": "markdown",
   "metadata": {},
   "source": [
    "## Credit Card Fraud Detection using CNN"
   ]
  },
  {
   "cell_type": "code",
   "execution_count": 1,
   "metadata": {},
   "outputs": [
    {
     "data": {
      "text/plain": [
       "'\\nBefore running the program first download the dataset from Kaggle, using the link \"https://www.kaggle.com/mlg-ulb/creditcardfraud\" \\nand place that dataset in the same folder as this program.\\n'"
      ]
     },
     "execution_count": 1,
     "metadata": {},
     "output_type": "execute_result"
    }
   ],
   "source": [
    "'''\n",
    "Before running the program first download the dataset from Kaggle, using the link \"https://www.kaggle.com/mlg-ulb/creditcardfraud\" \n",
    "and place that dataset in the same folder as this program.\n",
    "'''"
   ]
  },
  {
   "cell_type": "code",
   "execution_count": 2,
   "metadata": {},
   "outputs": [
    {
     "name": "stderr",
     "output_type": "stream",
     "text": [
      "C:\\Users\\Shivam\\AppData\\Roaming\\Python\\Python36\\site-packages\\tensorflow\\python\\framework\\dtypes.py:516: FutureWarning: Passing (type, 1) or '1type' as a synonym of type is deprecated; in a future version of numpy, it will be understood as (type, (1,)) / '(1,)type'.\n",
      "  _np_qint8 = np.dtype([(\"qint8\", np.int8, 1)])\n",
      "C:\\Users\\Shivam\\AppData\\Roaming\\Python\\Python36\\site-packages\\tensorflow\\python\\framework\\dtypes.py:517: FutureWarning: Passing (type, 1) or '1type' as a synonym of type is deprecated; in a future version of numpy, it will be understood as (type, (1,)) / '(1,)type'.\n",
      "  _np_quint8 = np.dtype([(\"quint8\", np.uint8, 1)])\n",
      "C:\\Users\\Shivam\\AppData\\Roaming\\Python\\Python36\\site-packages\\tensorflow\\python\\framework\\dtypes.py:518: FutureWarning: Passing (type, 1) or '1type' as a synonym of type is deprecated; in a future version of numpy, it will be understood as (type, (1,)) / '(1,)type'.\n",
      "  _np_qint16 = np.dtype([(\"qint16\", np.int16, 1)])\n",
      "C:\\Users\\Shivam\\AppData\\Roaming\\Python\\Python36\\site-packages\\tensorflow\\python\\framework\\dtypes.py:519: FutureWarning: Passing (type, 1) or '1type' as a synonym of type is deprecated; in a future version of numpy, it will be understood as (type, (1,)) / '(1,)type'.\n",
      "  _np_quint16 = np.dtype([(\"quint16\", np.uint16, 1)])\n",
      "C:\\Users\\Shivam\\AppData\\Roaming\\Python\\Python36\\site-packages\\tensorflow\\python\\framework\\dtypes.py:520: FutureWarning: Passing (type, 1) or '1type' as a synonym of type is deprecated; in a future version of numpy, it will be understood as (type, (1,)) / '(1,)type'.\n",
      "  _np_qint32 = np.dtype([(\"qint32\", np.int32, 1)])\n",
      "C:\\Users\\Shivam\\AppData\\Roaming\\Python\\Python36\\site-packages\\tensorflow\\python\\framework\\dtypes.py:525: FutureWarning: Passing (type, 1) or '1type' as a synonym of type is deprecated; in a future version of numpy, it will be understood as (type, (1,)) / '(1,)type'.\n",
      "  np_resource = np.dtype([(\"resource\", np.ubyte, 1)])\n"
     ]
    },
    {
     "name": "stdout",
     "output_type": "stream",
     "text": [
      "2.0.0-beta1\n"
     ]
    },
    {
     "name": "stderr",
     "output_type": "stream",
     "text": [
      "C:\\Users\\Shivam\\AppData\\Roaming\\Python\\Python36\\site-packages\\tensorboard\\compat\\tensorflow_stub\\dtypes.py:541: FutureWarning: Passing (type, 1) or '1type' as a synonym of type is deprecated; in a future version of numpy, it will be understood as (type, (1,)) / '(1,)type'.\n",
      "  _np_qint8 = np.dtype([(\"qint8\", np.int8, 1)])\n",
      "C:\\Users\\Shivam\\AppData\\Roaming\\Python\\Python36\\site-packages\\tensorboard\\compat\\tensorflow_stub\\dtypes.py:542: FutureWarning: Passing (type, 1) or '1type' as a synonym of type is deprecated; in a future version of numpy, it will be understood as (type, (1,)) / '(1,)type'.\n",
      "  _np_quint8 = np.dtype([(\"quint8\", np.uint8, 1)])\n",
      "C:\\Users\\Shivam\\AppData\\Roaming\\Python\\Python36\\site-packages\\tensorboard\\compat\\tensorflow_stub\\dtypes.py:543: FutureWarning: Passing (type, 1) or '1type' as a synonym of type is deprecated; in a future version of numpy, it will be understood as (type, (1,)) / '(1,)type'.\n",
      "  _np_qint16 = np.dtype([(\"qint16\", np.int16, 1)])\n",
      "C:\\Users\\Shivam\\AppData\\Roaming\\Python\\Python36\\site-packages\\tensorboard\\compat\\tensorflow_stub\\dtypes.py:544: FutureWarning: Passing (type, 1) or '1type' as a synonym of type is deprecated; in a future version of numpy, it will be understood as (type, (1,)) / '(1,)type'.\n",
      "  _np_quint16 = np.dtype([(\"quint16\", np.uint16, 1)])\n",
      "C:\\Users\\Shivam\\AppData\\Roaming\\Python\\Python36\\site-packages\\tensorboard\\compat\\tensorflow_stub\\dtypes.py:545: FutureWarning: Passing (type, 1) or '1type' as a synonym of type is deprecated; in a future version of numpy, it will be understood as (type, (1,)) / '(1,)type'.\n",
      "  _np_qint32 = np.dtype([(\"qint32\", np.int32, 1)])\n",
      "C:\\Users\\Shivam\\AppData\\Roaming\\Python\\Python36\\site-packages\\tensorboard\\compat\\tensorflow_stub\\dtypes.py:550: FutureWarning: Passing (type, 1) or '1type' as a synonym of type is deprecated; in a future version of numpy, it will be understood as (type, (1,)) / '(1,)type'.\n",
      "  np_resource = np.dtype([(\"resource\", np.ubyte, 1)])\n"
     ]
    }
   ],
   "source": [
    "import tensorflow as tf\n",
    "from tensorflow import keras\n",
    "from tensorflow.keras import Sequential\n",
    "from tensorflow.keras.layers import Flatten, Dense, Dropout, BatchNormalization\n",
    "from tensorflow.keras.layers import Conv1D, MaxPool1D\n",
    "from tensorflow.keras.optimizers import Adam\n",
    "print(tf.__version__)"
   ]
  },
  {
   "cell_type": "code",
   "execution_count": 3,
   "metadata": {},
   "outputs": [],
   "source": [
    "import pandas as pd\n",
    "import numpy as np\n",
    "import  seaborn as sns\n",
    "import matplotlib.pyplot as plt\n",
    "from sklearn.model_selection import train_test_split\n",
    "from sklearn.preprocessing import StandardScaler"
   ]
  },
  {
   "cell_type": "code",
   "execution_count": 4,
   "metadata": {},
   "outputs": [
    {
     "data": {
      "text/html": [
       "<div>\n",
       "<style scoped>\n",
       "    .dataframe tbody tr th:only-of-type {\n",
       "        vertical-align: middle;\n",
       "    }\n",
       "\n",
       "    .dataframe tbody tr th {\n",
       "        vertical-align: top;\n",
       "    }\n",
       "\n",
       "    .dataframe thead th {\n",
       "        text-align: right;\n",
       "    }\n",
       "</style>\n",
       "<table border=\"1\" class=\"dataframe\">\n",
       "  <thead>\n",
       "    <tr style=\"text-align: right;\">\n",
       "      <th></th>\n",
       "      <th>Time</th>\n",
       "      <th>V1</th>\n",
       "      <th>V2</th>\n",
       "      <th>V3</th>\n",
       "      <th>V4</th>\n",
       "      <th>V5</th>\n",
       "      <th>V6</th>\n",
       "      <th>V7</th>\n",
       "      <th>V8</th>\n",
       "      <th>V9</th>\n",
       "      <th>...</th>\n",
       "      <th>V21</th>\n",
       "      <th>V22</th>\n",
       "      <th>V23</th>\n",
       "      <th>V24</th>\n",
       "      <th>V25</th>\n",
       "      <th>V26</th>\n",
       "      <th>V27</th>\n",
       "      <th>V28</th>\n",
       "      <th>Amount</th>\n",
       "      <th>Class</th>\n",
       "    </tr>\n",
       "  </thead>\n",
       "  <tbody>\n",
       "    <tr>\n",
       "      <th>0</th>\n",
       "      <td>0.0</td>\n",
       "      <td>-1.359807</td>\n",
       "      <td>-0.072781</td>\n",
       "      <td>2.536347</td>\n",
       "      <td>1.378155</td>\n",
       "      <td>-0.338321</td>\n",
       "      <td>0.462388</td>\n",
       "      <td>0.239599</td>\n",
       "      <td>0.098698</td>\n",
       "      <td>0.363787</td>\n",
       "      <td>...</td>\n",
       "      <td>-0.018307</td>\n",
       "      <td>0.277838</td>\n",
       "      <td>-0.110474</td>\n",
       "      <td>0.066928</td>\n",
       "      <td>0.128539</td>\n",
       "      <td>-0.189115</td>\n",
       "      <td>0.133558</td>\n",
       "      <td>-0.021053</td>\n",
       "      <td>149.62</td>\n",
       "      <td>0</td>\n",
       "    </tr>\n",
       "    <tr>\n",
       "      <th>1</th>\n",
       "      <td>0.0</td>\n",
       "      <td>1.191857</td>\n",
       "      <td>0.266151</td>\n",
       "      <td>0.166480</td>\n",
       "      <td>0.448154</td>\n",
       "      <td>0.060018</td>\n",
       "      <td>-0.082361</td>\n",
       "      <td>-0.078803</td>\n",
       "      <td>0.085102</td>\n",
       "      <td>-0.255425</td>\n",
       "      <td>...</td>\n",
       "      <td>-0.225775</td>\n",
       "      <td>-0.638672</td>\n",
       "      <td>0.101288</td>\n",
       "      <td>-0.339846</td>\n",
       "      <td>0.167170</td>\n",
       "      <td>0.125895</td>\n",
       "      <td>-0.008983</td>\n",
       "      <td>0.014724</td>\n",
       "      <td>2.69</td>\n",
       "      <td>0</td>\n",
       "    </tr>\n",
       "    <tr>\n",
       "      <th>2</th>\n",
       "      <td>1.0</td>\n",
       "      <td>-1.358354</td>\n",
       "      <td>-1.340163</td>\n",
       "      <td>1.773209</td>\n",
       "      <td>0.379780</td>\n",
       "      <td>-0.503198</td>\n",
       "      <td>1.800499</td>\n",
       "      <td>0.791461</td>\n",
       "      <td>0.247676</td>\n",
       "      <td>-1.514654</td>\n",
       "      <td>...</td>\n",
       "      <td>0.247998</td>\n",
       "      <td>0.771679</td>\n",
       "      <td>0.909412</td>\n",
       "      <td>-0.689281</td>\n",
       "      <td>-0.327642</td>\n",
       "      <td>-0.139097</td>\n",
       "      <td>-0.055353</td>\n",
       "      <td>-0.059752</td>\n",
       "      <td>378.66</td>\n",
       "      <td>0</td>\n",
       "    </tr>\n",
       "    <tr>\n",
       "      <th>3</th>\n",
       "      <td>1.0</td>\n",
       "      <td>-0.966272</td>\n",
       "      <td>-0.185226</td>\n",
       "      <td>1.792993</td>\n",
       "      <td>-0.863291</td>\n",
       "      <td>-0.010309</td>\n",
       "      <td>1.247203</td>\n",
       "      <td>0.237609</td>\n",
       "      <td>0.377436</td>\n",
       "      <td>-1.387024</td>\n",
       "      <td>...</td>\n",
       "      <td>-0.108300</td>\n",
       "      <td>0.005274</td>\n",
       "      <td>-0.190321</td>\n",
       "      <td>-1.175575</td>\n",
       "      <td>0.647376</td>\n",
       "      <td>-0.221929</td>\n",
       "      <td>0.062723</td>\n",
       "      <td>0.061458</td>\n",
       "      <td>123.50</td>\n",
       "      <td>0</td>\n",
       "    </tr>\n",
       "    <tr>\n",
       "      <th>4</th>\n",
       "      <td>2.0</td>\n",
       "      <td>-1.158233</td>\n",
       "      <td>0.877737</td>\n",
       "      <td>1.548718</td>\n",
       "      <td>0.403034</td>\n",
       "      <td>-0.407193</td>\n",
       "      <td>0.095921</td>\n",
       "      <td>0.592941</td>\n",
       "      <td>-0.270533</td>\n",
       "      <td>0.817739</td>\n",
       "      <td>...</td>\n",
       "      <td>-0.009431</td>\n",
       "      <td>0.798278</td>\n",
       "      <td>-0.137458</td>\n",
       "      <td>0.141267</td>\n",
       "      <td>-0.206010</td>\n",
       "      <td>0.502292</td>\n",
       "      <td>0.219422</td>\n",
       "      <td>0.215153</td>\n",
       "      <td>69.99</td>\n",
       "      <td>0</td>\n",
       "    </tr>\n",
       "  </tbody>\n",
       "</table>\n",
       "<p>5 rows × 31 columns</p>\n",
       "</div>"
      ],
      "text/plain": [
       "   Time        V1        V2        V3        V4        V5        V6        V7  \\\n",
       "0   0.0 -1.359807 -0.072781  2.536347  1.378155 -0.338321  0.462388  0.239599   \n",
       "1   0.0  1.191857  0.266151  0.166480  0.448154  0.060018 -0.082361 -0.078803   \n",
       "2   1.0 -1.358354 -1.340163  1.773209  0.379780 -0.503198  1.800499  0.791461   \n",
       "3   1.0 -0.966272 -0.185226  1.792993 -0.863291 -0.010309  1.247203  0.237609   \n",
       "4   2.0 -1.158233  0.877737  1.548718  0.403034 -0.407193  0.095921  0.592941   \n",
       "\n",
       "         V8        V9  ...       V21       V22       V23       V24       V25  \\\n",
       "0  0.098698  0.363787  ... -0.018307  0.277838 -0.110474  0.066928  0.128539   \n",
       "1  0.085102 -0.255425  ... -0.225775 -0.638672  0.101288 -0.339846  0.167170   \n",
       "2  0.247676 -1.514654  ...  0.247998  0.771679  0.909412 -0.689281 -0.327642   \n",
       "3  0.377436 -1.387024  ... -0.108300  0.005274 -0.190321 -1.175575  0.647376   \n",
       "4 -0.270533  0.817739  ... -0.009431  0.798278 -0.137458  0.141267 -0.206010   \n",
       "\n",
       "        V26       V27       V28  Amount  Class  \n",
       "0 -0.189115  0.133558 -0.021053  149.62      0  \n",
       "1  0.125895 -0.008983  0.014724    2.69      0  \n",
       "2 -0.139097 -0.055353 -0.059752  378.66      0  \n",
       "3 -0.221929  0.062723  0.061458  123.50      0  \n",
       "4  0.502292  0.219422  0.215153   69.99      0  \n",
       "\n",
       "[5 rows x 31 columns]"
      ]
     },
     "execution_count": 4,
     "metadata": {},
     "output_type": "execute_result"
    }
   ],
   "source": [
    "data = pd.read_csv('creditcard.csv')\n",
    "data.head()"
   ]
  },
  {
   "cell_type": "code",
   "execution_count": 5,
   "metadata": {},
   "outputs": [
    {
     "data": {
      "text/plain": [
       "(284807, 31)"
      ]
     },
     "execution_count": 5,
     "metadata": {},
     "output_type": "execute_result"
    }
   ],
   "source": [
    "data.shape"
   ]
  },
  {
   "cell_type": "code",
   "execution_count": 6,
   "metadata": {},
   "outputs": [
    {
     "data": {
      "text/plain": [
       "Time      0\n",
       "V1        0\n",
       "V2        0\n",
       "V3        0\n",
       "V4        0\n",
       "V5        0\n",
       "V6        0\n",
       "V7        0\n",
       "V8        0\n",
       "V9        0\n",
       "V10       0\n",
       "V11       0\n",
       "V12       0\n",
       "V13       0\n",
       "V14       0\n",
       "V15       0\n",
       "V16       0\n",
       "V17       0\n",
       "V18       0\n",
       "V19       0\n",
       "V20       0\n",
       "V21       0\n",
       "V22       0\n",
       "V23       0\n",
       "V24       0\n",
       "V25       0\n",
       "V26       0\n",
       "V27       0\n",
       "V28       0\n",
       "Amount    0\n",
       "Class     0\n",
       "dtype: int64"
      ]
     },
     "execution_count": 6,
     "metadata": {},
     "output_type": "execute_result"
    }
   ],
   "source": [
    "data.isnull().sum()"
   ]
  },
  {
   "cell_type": "code",
   "execution_count": 7,
   "metadata": {
    "scrolled": true
   },
   "outputs": [
    {
     "name": "stdout",
     "output_type": "stream",
     "text": [
      "<class 'pandas.core.frame.DataFrame'>\n",
      "RangeIndex: 284807 entries, 0 to 284806\n",
      "Data columns (total 31 columns):\n",
      "Time      284807 non-null float64\n",
      "V1        284807 non-null float64\n",
      "V2        284807 non-null float64\n",
      "V3        284807 non-null float64\n",
      "V4        284807 non-null float64\n",
      "V5        284807 non-null float64\n",
      "V6        284807 non-null float64\n",
      "V7        284807 non-null float64\n",
      "V8        284807 non-null float64\n",
      "V9        284807 non-null float64\n",
      "V10       284807 non-null float64\n",
      "V11       284807 non-null float64\n",
      "V12       284807 non-null float64\n",
      "V13       284807 non-null float64\n",
      "V14       284807 non-null float64\n",
      "V15       284807 non-null float64\n",
      "V16       284807 non-null float64\n",
      "V17       284807 non-null float64\n",
      "V18       284807 non-null float64\n",
      "V19       284807 non-null float64\n",
      "V20       284807 non-null float64\n",
      "V21       284807 non-null float64\n",
      "V22       284807 non-null float64\n",
      "V23       284807 non-null float64\n",
      "V24       284807 non-null float64\n",
      "V25       284807 non-null float64\n",
      "V26       284807 non-null float64\n",
      "V27       284807 non-null float64\n",
      "V28       284807 non-null float64\n",
      "Amount    284807 non-null float64\n",
      "Class     284807 non-null int64\n",
      "dtypes: float64(30), int64(1)\n",
      "memory usage: 67.4 MB\n"
     ]
    }
   ],
   "source": [
    "data.info()"
   ]
  },
  {
   "cell_type": "code",
   "execution_count": 8,
   "metadata": {},
   "outputs": [
    {
     "data": {
      "text/plain": [
       "0    284315\n",
       "1       492\n",
       "Name: Class, dtype: int64"
      ]
     },
     "execution_count": 8,
     "metadata": {},
     "output_type": "execute_result"
    }
   ],
   "source": [
    "data['Class'].value_counts()"
   ]
  },
  {
   "cell_type": "markdown",
   "metadata": {},
   "source": [
    "### Balance Dataset "
   ]
  },
  {
   "cell_type": "code",
   "execution_count": 9,
   "metadata": {},
   "outputs": [],
   "source": [
    "non_fraud = data[data['Class']==0]\n",
    "fraud = data[data['Class']==1]"
   ]
  },
  {
   "cell_type": "code",
   "execution_count": 10,
   "metadata": {},
   "outputs": [
    {
     "data": {
      "text/plain": [
       "((284315, 31), (492, 31))"
      ]
     },
     "execution_count": 10,
     "metadata": {},
     "output_type": "execute_result"
    }
   ],
   "source": [
    "non_fraud.shape, fraud.shape"
   ]
  },
  {
   "cell_type": "code",
   "execution_count": 11,
   "metadata": {},
   "outputs": [
    {
     "data": {
      "text/plain": [
       "(492, 31)"
      ]
     },
     "execution_count": 11,
     "metadata": {},
     "output_type": "execute_result"
    }
   ],
   "source": [
    "non_fraud = non_fraud.sample(fraud.shape[0])\n",
    "non_fraud.shape"
   ]
  },
  {
   "cell_type": "code",
   "execution_count": 12,
   "metadata": {},
   "outputs": [
    {
     "data": {
      "text/html": [
       "<div>\n",
       "<style scoped>\n",
       "    .dataframe tbody tr th:only-of-type {\n",
       "        vertical-align: middle;\n",
       "    }\n",
       "\n",
       "    .dataframe tbody tr th {\n",
       "        vertical-align: top;\n",
       "    }\n",
       "\n",
       "    .dataframe thead th {\n",
       "        text-align: right;\n",
       "    }\n",
       "</style>\n",
       "<table border=\"1\" class=\"dataframe\">\n",
       "  <thead>\n",
       "    <tr style=\"text-align: right;\">\n",
       "      <th></th>\n",
       "      <th>Time</th>\n",
       "      <th>V1</th>\n",
       "      <th>V2</th>\n",
       "      <th>V3</th>\n",
       "      <th>V4</th>\n",
       "      <th>V5</th>\n",
       "      <th>V6</th>\n",
       "      <th>V7</th>\n",
       "      <th>V8</th>\n",
       "      <th>V9</th>\n",
       "      <th>...</th>\n",
       "      <th>V21</th>\n",
       "      <th>V22</th>\n",
       "      <th>V23</th>\n",
       "      <th>V24</th>\n",
       "      <th>V25</th>\n",
       "      <th>V26</th>\n",
       "      <th>V27</th>\n",
       "      <th>V28</th>\n",
       "      <th>Amount</th>\n",
       "      <th>Class</th>\n",
       "    </tr>\n",
       "  </thead>\n",
       "  <tbody>\n",
       "    <tr>\n",
       "      <th>0</th>\n",
       "      <td>406.0</td>\n",
       "      <td>-2.312227</td>\n",
       "      <td>1.951992</td>\n",
       "      <td>-1.609851</td>\n",
       "      <td>3.997906</td>\n",
       "      <td>-0.522188</td>\n",
       "      <td>-1.426545</td>\n",
       "      <td>-2.537387</td>\n",
       "      <td>1.391657</td>\n",
       "      <td>-2.770089</td>\n",
       "      <td>...</td>\n",
       "      <td>0.517232</td>\n",
       "      <td>-0.035049</td>\n",
       "      <td>-0.465211</td>\n",
       "      <td>0.320198</td>\n",
       "      <td>0.044519</td>\n",
       "      <td>0.177840</td>\n",
       "      <td>0.261145</td>\n",
       "      <td>-0.143276</td>\n",
       "      <td>0.00</td>\n",
       "      <td>1</td>\n",
       "    </tr>\n",
       "    <tr>\n",
       "      <th>1</th>\n",
       "      <td>472.0</td>\n",
       "      <td>-3.043541</td>\n",
       "      <td>-3.157307</td>\n",
       "      <td>1.088463</td>\n",
       "      <td>2.288644</td>\n",
       "      <td>1.359805</td>\n",
       "      <td>-1.064823</td>\n",
       "      <td>0.325574</td>\n",
       "      <td>-0.067794</td>\n",
       "      <td>-0.270953</td>\n",
       "      <td>...</td>\n",
       "      <td>0.661696</td>\n",
       "      <td>0.435477</td>\n",
       "      <td>1.375966</td>\n",
       "      <td>-0.293803</td>\n",
       "      <td>0.279798</td>\n",
       "      <td>-0.145362</td>\n",
       "      <td>-0.252773</td>\n",
       "      <td>0.035764</td>\n",
       "      <td>529.00</td>\n",
       "      <td>1</td>\n",
       "    </tr>\n",
       "    <tr>\n",
       "      <th>2</th>\n",
       "      <td>4462.0</td>\n",
       "      <td>-2.303350</td>\n",
       "      <td>1.759247</td>\n",
       "      <td>-0.359745</td>\n",
       "      <td>2.330243</td>\n",
       "      <td>-0.821628</td>\n",
       "      <td>-0.075788</td>\n",
       "      <td>0.562320</td>\n",
       "      <td>-0.399147</td>\n",
       "      <td>-0.238253</td>\n",
       "      <td>...</td>\n",
       "      <td>-0.294166</td>\n",
       "      <td>-0.932391</td>\n",
       "      <td>0.172726</td>\n",
       "      <td>-0.087330</td>\n",
       "      <td>-0.156114</td>\n",
       "      <td>-0.542628</td>\n",
       "      <td>0.039566</td>\n",
       "      <td>-0.153029</td>\n",
       "      <td>239.93</td>\n",
       "      <td>1</td>\n",
       "    </tr>\n",
       "    <tr>\n",
       "      <th>3</th>\n",
       "      <td>6986.0</td>\n",
       "      <td>-4.397974</td>\n",
       "      <td>1.358367</td>\n",
       "      <td>-2.592844</td>\n",
       "      <td>2.679787</td>\n",
       "      <td>-1.128131</td>\n",
       "      <td>-1.706536</td>\n",
       "      <td>-3.496197</td>\n",
       "      <td>-0.248778</td>\n",
       "      <td>-0.247768</td>\n",
       "      <td>...</td>\n",
       "      <td>0.573574</td>\n",
       "      <td>0.176968</td>\n",
       "      <td>-0.436207</td>\n",
       "      <td>-0.053502</td>\n",
       "      <td>0.252405</td>\n",
       "      <td>-0.657488</td>\n",
       "      <td>-0.827136</td>\n",
       "      <td>0.849573</td>\n",
       "      <td>59.00</td>\n",
       "      <td>1</td>\n",
       "    </tr>\n",
       "    <tr>\n",
       "      <th>4</th>\n",
       "      <td>7519.0</td>\n",
       "      <td>1.234235</td>\n",
       "      <td>3.019740</td>\n",
       "      <td>-4.304597</td>\n",
       "      <td>4.732795</td>\n",
       "      <td>3.624201</td>\n",
       "      <td>-1.357746</td>\n",
       "      <td>1.713445</td>\n",
       "      <td>-0.496358</td>\n",
       "      <td>-1.282858</td>\n",
       "      <td>...</td>\n",
       "      <td>-0.379068</td>\n",
       "      <td>-0.704181</td>\n",
       "      <td>-0.656805</td>\n",
       "      <td>-1.632653</td>\n",
       "      <td>1.488901</td>\n",
       "      <td>0.566797</td>\n",
       "      <td>-0.010016</td>\n",
       "      <td>0.146793</td>\n",
       "      <td>1.00</td>\n",
       "      <td>1</td>\n",
       "    </tr>\n",
       "    <tr>\n",
       "      <th>...</th>\n",
       "      <td>...</td>\n",
       "      <td>...</td>\n",
       "      <td>...</td>\n",
       "      <td>...</td>\n",
       "      <td>...</td>\n",
       "      <td>...</td>\n",
       "      <td>...</td>\n",
       "      <td>...</td>\n",
       "      <td>...</td>\n",
       "      <td>...</td>\n",
       "      <td>...</td>\n",
       "      <td>...</td>\n",
       "      <td>...</td>\n",
       "      <td>...</td>\n",
       "      <td>...</td>\n",
       "      <td>...</td>\n",
       "      <td>...</td>\n",
       "      <td>...</td>\n",
       "      <td>...</td>\n",
       "      <td>...</td>\n",
       "      <td>...</td>\n",
       "    </tr>\n",
       "    <tr>\n",
       "      <th>979</th>\n",
       "      <td>133297.0</td>\n",
       "      <td>0.039376</td>\n",
       "      <td>0.129873</td>\n",
       "      <td>0.734072</td>\n",
       "      <td>-0.987374</td>\n",
       "      <td>0.092650</td>\n",
       "      <td>0.121022</td>\n",
       "      <td>0.617236</td>\n",
       "      <td>-0.167413</td>\n",
       "      <td>0.959963</td>\n",
       "      <td>...</td>\n",
       "      <td>0.212250</td>\n",
       "      <td>0.846109</td>\n",
       "      <td>0.022975</td>\n",
       "      <td>0.512179</td>\n",
       "      <td>-0.894310</td>\n",
       "      <td>0.264925</td>\n",
       "      <td>-0.171142</td>\n",
       "      <td>-0.108693</td>\n",
       "      <td>74.99</td>\n",
       "      <td>0</td>\n",
       "    </tr>\n",
       "    <tr>\n",
       "      <th>980</th>\n",
       "      <td>80635.0</td>\n",
       "      <td>-5.548018</td>\n",
       "      <td>6.579066</td>\n",
       "      <td>-6.076670</td>\n",
       "      <td>1.031910</td>\n",
       "      <td>-2.329146</td>\n",
       "      <td>-2.768312</td>\n",
       "      <td>-1.814887</td>\n",
       "      <td>2.958108</td>\n",
       "      <td>2.036134</td>\n",
       "      <td>...</td>\n",
       "      <td>-0.361156</td>\n",
       "      <td>-0.667886</td>\n",
       "      <td>0.752107</td>\n",
       "      <td>0.251763</td>\n",
       "      <td>0.555506</td>\n",
       "      <td>-0.319915</td>\n",
       "      <td>1.251527</td>\n",
       "      <td>0.670050</td>\n",
       "      <td>2.69</td>\n",
       "      <td>0</td>\n",
       "    </tr>\n",
       "    <tr>\n",
       "      <th>981</th>\n",
       "      <td>150821.0</td>\n",
       "      <td>-0.368955</td>\n",
       "      <td>0.856267</td>\n",
       "      <td>-0.856324</td>\n",
       "      <td>-1.102347</td>\n",
       "      <td>0.575889</td>\n",
       "      <td>-0.227469</td>\n",
       "      <td>1.011648</td>\n",
       "      <td>0.337388</td>\n",
       "      <td>-0.454541</td>\n",
       "      <td>...</td>\n",
       "      <td>-0.022492</td>\n",
       "      <td>-0.169871</td>\n",
       "      <td>0.121535</td>\n",
       "      <td>0.291117</td>\n",
       "      <td>0.192667</td>\n",
       "      <td>-0.142039</td>\n",
       "      <td>0.041556</td>\n",
       "      <td>-0.042432</td>\n",
       "      <td>92.41</td>\n",
       "      <td>0</td>\n",
       "    </tr>\n",
       "    <tr>\n",
       "      <th>982</th>\n",
       "      <td>85050.0</td>\n",
       "      <td>-1.076956</td>\n",
       "      <td>0.915274</td>\n",
       "      <td>1.521836</td>\n",
       "      <td>-1.391097</td>\n",
       "      <td>0.268074</td>\n",
       "      <td>-1.111835</td>\n",
       "      <td>1.239230</td>\n",
       "      <td>-0.805860</td>\n",
       "      <td>0.398282</td>\n",
       "      <td>...</td>\n",
       "      <td>-0.084570</td>\n",
       "      <td>0.007664</td>\n",
       "      <td>-0.202116</td>\n",
       "      <td>0.465296</td>\n",
       "      <td>-0.373022</td>\n",
       "      <td>0.639499</td>\n",
       "      <td>-0.753334</td>\n",
       "      <td>-0.203284</td>\n",
       "      <td>23.05</td>\n",
       "      <td>0</td>\n",
       "    </tr>\n",
       "    <tr>\n",
       "      <th>983</th>\n",
       "      <td>150600.0</td>\n",
       "      <td>-0.239950</td>\n",
       "      <td>1.108210</td>\n",
       "      <td>-0.505751</td>\n",
       "      <td>-0.800077</td>\n",
       "      <td>0.674088</td>\n",
       "      <td>-0.471916</td>\n",
       "      <td>0.677903</td>\n",
       "      <td>0.276454</td>\n",
       "      <td>-0.236875</td>\n",
       "      <td>...</td>\n",
       "      <td>-0.270441</td>\n",
       "      <td>-0.702202</td>\n",
       "      <td>0.009640</td>\n",
       "      <td>-1.055005</td>\n",
       "      <td>-0.316889</td>\n",
       "      <td>0.208628</td>\n",
       "      <td>0.125484</td>\n",
       "      <td>0.025054</td>\n",
       "      <td>9.99</td>\n",
       "      <td>0</td>\n",
       "    </tr>\n",
       "  </tbody>\n",
       "</table>\n",
       "<p>984 rows × 31 columns</p>\n",
       "</div>"
      ],
      "text/plain": [
       "         Time        V1        V2        V3        V4        V5        V6  \\\n",
       "0       406.0 -2.312227  1.951992 -1.609851  3.997906 -0.522188 -1.426545   \n",
       "1       472.0 -3.043541 -3.157307  1.088463  2.288644  1.359805 -1.064823   \n",
       "2      4462.0 -2.303350  1.759247 -0.359745  2.330243 -0.821628 -0.075788   \n",
       "3      6986.0 -4.397974  1.358367 -2.592844  2.679787 -1.128131 -1.706536   \n",
       "4      7519.0  1.234235  3.019740 -4.304597  4.732795  3.624201 -1.357746   \n",
       "..        ...       ...       ...       ...       ...       ...       ...   \n",
       "979  133297.0  0.039376  0.129873  0.734072 -0.987374  0.092650  0.121022   \n",
       "980   80635.0 -5.548018  6.579066 -6.076670  1.031910 -2.329146 -2.768312   \n",
       "981  150821.0 -0.368955  0.856267 -0.856324 -1.102347  0.575889 -0.227469   \n",
       "982   85050.0 -1.076956  0.915274  1.521836 -1.391097  0.268074 -1.111835   \n",
       "983  150600.0 -0.239950  1.108210 -0.505751 -0.800077  0.674088 -0.471916   \n",
       "\n",
       "           V7        V8        V9  ...       V21       V22       V23  \\\n",
       "0   -2.537387  1.391657 -2.770089  ...  0.517232 -0.035049 -0.465211   \n",
       "1    0.325574 -0.067794 -0.270953  ...  0.661696  0.435477  1.375966   \n",
       "2    0.562320 -0.399147 -0.238253  ... -0.294166 -0.932391  0.172726   \n",
       "3   -3.496197 -0.248778 -0.247768  ...  0.573574  0.176968 -0.436207   \n",
       "4    1.713445 -0.496358 -1.282858  ... -0.379068 -0.704181 -0.656805   \n",
       "..        ...       ...       ...  ...       ...       ...       ...   \n",
       "979  0.617236 -0.167413  0.959963  ...  0.212250  0.846109  0.022975   \n",
       "980 -1.814887  2.958108  2.036134  ... -0.361156 -0.667886  0.752107   \n",
       "981  1.011648  0.337388 -0.454541  ... -0.022492 -0.169871  0.121535   \n",
       "982  1.239230 -0.805860  0.398282  ... -0.084570  0.007664 -0.202116   \n",
       "983  0.677903  0.276454 -0.236875  ... -0.270441 -0.702202  0.009640   \n",
       "\n",
       "          V24       V25       V26       V27       V28  Amount  Class  \n",
       "0    0.320198  0.044519  0.177840  0.261145 -0.143276    0.00      1  \n",
       "1   -0.293803  0.279798 -0.145362 -0.252773  0.035764  529.00      1  \n",
       "2   -0.087330 -0.156114 -0.542628  0.039566 -0.153029  239.93      1  \n",
       "3   -0.053502  0.252405 -0.657488 -0.827136  0.849573   59.00      1  \n",
       "4   -1.632653  1.488901  0.566797 -0.010016  0.146793    1.00      1  \n",
       "..        ...       ...       ...       ...       ...     ...    ...  \n",
       "979  0.512179 -0.894310  0.264925 -0.171142 -0.108693   74.99      0  \n",
       "980  0.251763  0.555506 -0.319915  1.251527  0.670050    2.69      0  \n",
       "981  0.291117  0.192667 -0.142039  0.041556 -0.042432   92.41      0  \n",
       "982  0.465296 -0.373022  0.639499 -0.753334 -0.203284   23.05      0  \n",
       "983 -1.055005 -0.316889  0.208628  0.125484  0.025054    9.99      0  \n",
       "\n",
       "[984 rows x 31 columns]"
      ]
     },
     "execution_count": 12,
     "metadata": {},
     "output_type": "execute_result"
    }
   ],
   "source": [
    "data = fraud.append(non_fraud, ignore_index=True)\n",
    "data"
   ]
  },
  {
   "cell_type": "code",
   "execution_count": 13,
   "metadata": {},
   "outputs": [
    {
     "data": {
      "text/plain": [
       "1    492\n",
       "0    492\n",
       "Name: Class, dtype: int64"
      ]
     },
     "execution_count": 13,
     "metadata": {},
     "output_type": "execute_result"
    }
   ],
   "source": [
    "data['Class'].value_counts()"
   ]
  },
  {
   "cell_type": "code",
   "execution_count": 14,
   "metadata": {},
   "outputs": [],
   "source": [
    "X = data.drop('Class', axis = 1)\n",
    "y = data['Class']"
   ]
  },
  {
   "cell_type": "code",
   "execution_count": 15,
   "metadata": {},
   "outputs": [],
   "source": [
    "X_train, X_test, y_train, y_test = train_test_split(X, y, test_size = 0.2, random_state = 0, stratify = y)"
   ]
  },
  {
   "cell_type": "code",
   "execution_count": 16,
   "metadata": {},
   "outputs": [
    {
     "data": {
      "text/plain": [
       "((787, 30), (197, 30))"
      ]
     },
     "execution_count": 16,
     "metadata": {},
     "output_type": "execute_result"
    }
   ],
   "source": [
    "X_train.shape, X_test.shape"
   ]
  },
  {
   "cell_type": "code",
   "execution_count": 17,
   "metadata": {},
   "outputs": [],
   "source": [
    "scaler = StandardScaler()\n",
    "X_train = scaler.fit_transform(X_train)\n",
    "X_test = scaler.transform(X_test)"
   ]
  },
  {
   "cell_type": "code",
   "execution_count": 18,
   "metadata": {},
   "outputs": [],
   "source": [
    "y_train = y_train.to_numpy()\n",
    "y_test = y_test.to_numpy()"
   ]
  },
  {
   "cell_type": "code",
   "execution_count": 19,
   "metadata": {},
   "outputs": [
    {
     "data": {
      "text/plain": [
       "(787, 30)"
      ]
     },
     "execution_count": 19,
     "metadata": {},
     "output_type": "execute_result"
    }
   ],
   "source": [
    "X_train.shape"
   ]
  },
  {
   "cell_type": "code",
   "execution_count": 20,
   "metadata": {},
   "outputs": [],
   "source": [
    "X_train = X_train.reshape(X_train.shape[0], X_train.shape[1], 1)\n",
    "X_test = X_test.reshape(X_test.shape[0], X_test.shape[1], 1)"
   ]
  },
  {
   "cell_type": "code",
   "execution_count": 21,
   "metadata": {},
   "outputs": [
    {
     "data": {
      "text/plain": [
       "((787, 30, 1), (197, 30, 1))"
      ]
     },
     "execution_count": 21,
     "metadata": {},
     "output_type": "execute_result"
    }
   ],
   "source": [
    "X_train.shape, X_test.shape"
   ]
  },
  {
   "cell_type": "markdown",
   "metadata": {},
   "source": [
    "### Build CNN "
   ]
  },
  {
   "cell_type": "code",
   "execution_count": 22,
   "metadata": {},
   "outputs": [],
   "source": [
    "epochs = 20\n",
    "model = Sequential()\n",
    "model.add(Conv1D(32, 2, activation='relu', input_shape = X_train[0].shape))\n",
    "model.add(BatchNormalization())\n",
    "model.add(Dropout(0.2))\n",
    "\n",
    "model.add(Conv1D(64, 2, activation='relu'))\n",
    "model.add(BatchNormalization())\n",
    "model.add(Dropout(0.5))\n",
    "\n",
    "model.add(Flatten())\n",
    "model.add(Dense(64, activation='relu'))\n",
    "model.add(Dropout(0.5))\n",
    "\n",
    "model.add(Dense(1, activation='sigmoid'))\n"
   ]
  },
  {
   "cell_type": "code",
   "execution_count": 23,
   "metadata": {},
   "outputs": [
    {
     "name": "stdout",
     "output_type": "stream",
     "text": [
      "Model: \"sequential\"\n",
      "_________________________________________________________________\n",
      "Layer (type)                 Output Shape              Param #   \n",
      "=================================================================\n",
      "conv1d (Conv1D)              (None, 29, 32)            96        \n",
      "_________________________________________________________________\n",
      "batch_normalization (BatchNo (None, 29, 32)            128       \n",
      "_________________________________________________________________\n",
      "dropout (Dropout)            (None, 29, 32)            0         \n",
      "_________________________________________________________________\n",
      "conv1d_1 (Conv1D)            (None, 28, 64)            4160      \n",
      "_________________________________________________________________\n",
      "batch_normalization_1 (Batch (None, 28, 64)            256       \n",
      "_________________________________________________________________\n",
      "dropout_1 (Dropout)          (None, 28, 64)            0         \n",
      "_________________________________________________________________\n",
      "flatten (Flatten)            (None, 1792)              0         \n",
      "_________________________________________________________________\n",
      "dense (Dense)                (None, 64)                114752    \n",
      "_________________________________________________________________\n",
      "dropout_2 (Dropout)          (None, 64)                0         \n",
      "_________________________________________________________________\n",
      "dense_1 (Dense)              (None, 1)                 65        \n",
      "=================================================================\n",
      "Total params: 119,457\n",
      "Trainable params: 119,265\n",
      "Non-trainable params: 192\n",
      "_________________________________________________________________\n"
     ]
    }
   ],
   "source": [
    "model.summary()"
   ]
  },
  {
   "cell_type": "code",
   "execution_count": 24,
   "metadata": {},
   "outputs": [],
   "source": [
    "model.compile(optimizer=Adam(lr=0.0001), loss = 'binary_crossentropy', metrics=['accuracy'])"
   ]
  },
  {
   "cell_type": "code",
   "execution_count": 25,
   "metadata": {},
   "outputs": [
    {
     "name": "stdout",
     "output_type": "stream",
     "text": [
      "WARNING:tensorflow:From C:\\Users\\Shivam\\AppData\\Roaming\\Python\\Python36\\site-packages\\tensorflow\\python\\ops\\math_grad.py:1250: add_dispatch_support.<locals>.wrapper (from tensorflow.python.ops.array_ops) is deprecated and will be removed in a future version.\n",
      "Instructions for updating:\n",
      "Use tf.where in 2.0, which has the same broadcast rule as np.where\n",
      "Train on 787 samples, validate on 197 samples\n",
      "Epoch 1/20\n",
      "787/787 [==============================] - 1s 1ms/sample - loss: 0.6582 - accuracy: 0.6874 - val_loss: 0.6245 - val_accuracy: 0.8122\n",
      "Epoch 2/20\n",
      "787/787 [==============================] - 0s 193us/sample - loss: 0.3988 - accuracy: 0.8450 - val_loss: 0.5924 - val_accuracy: 0.7716\n",
      "Epoch 3/20\n",
      "787/787 [==============================] - 0s 189us/sample - loss: 0.3685 - accuracy: 0.8679 - val_loss: 0.5681 - val_accuracy: 0.7817\n",
      "Epoch 4/20\n",
      "787/787 [==============================] - 0s 191us/sample - loss: 0.3069 - accuracy: 0.8856 - val_loss: 0.5382 - val_accuracy: 0.8020\n",
      "Epoch 5/20\n",
      "787/787 [==============================] - 0s 182us/sample - loss: 0.3278 - accuracy: 0.8958 - val_loss: 0.5063 - val_accuracy: 0.8528\n",
      "Epoch 6/20\n",
      "787/787 [==============================] - 0s 186us/sample - loss: 0.2781 - accuracy: 0.8958 - val_loss: 0.4718 - val_accuracy: 0.8629\n",
      "Epoch 7/20\n",
      "787/787 [==============================] - 0s 188us/sample - loss: 0.2658 - accuracy: 0.9111 - val_loss: 0.4395 - val_accuracy: 0.8782\n",
      "Epoch 8/20\n",
      "787/787 [==============================] - 0s 188us/sample - loss: 0.2481 - accuracy: 0.9123 - val_loss: 0.4018 - val_accuracy: 0.8832\n",
      "Epoch 9/20\n",
      "787/787 [==============================] - 0s 208us/sample - loss: 0.2367 - accuracy: 0.9149 - val_loss: 0.3680 - val_accuracy: 0.8934\n",
      "Epoch 10/20\n",
      "787/787 [==============================] - 0s 244us/sample - loss: 0.2300 - accuracy: 0.9187 - val_loss: 0.3358 - val_accuracy: 0.8985\n",
      "Epoch 11/20\n",
      "787/787 [==============================] - 0s 202us/sample - loss: 0.2523 - accuracy: 0.9187 - val_loss: 0.3094 - val_accuracy: 0.8985\n",
      "Epoch 12/20\n",
      "787/787 [==============================] - 0s 242us/sample - loss: 0.2124 - accuracy: 0.9199 - val_loss: 0.2852 - val_accuracy: 0.9086\n",
      "Epoch 13/20\n",
      "787/787 [==============================] - 0s 226us/sample - loss: 0.2176 - accuracy: 0.9174 - val_loss: 0.2652 - val_accuracy: 0.9086\n",
      "Epoch 14/20\n",
      "787/787 [==============================] - 0s 184us/sample - loss: 0.2089 - accuracy: 0.9263 - val_loss: 0.2502 - val_accuracy: 0.9036\n",
      "Epoch 15/20\n",
      "787/787 [==============================] - 0s 229us/sample - loss: 0.2041 - accuracy: 0.9288 - val_loss: 0.2373 - val_accuracy: 0.9036\n",
      "Epoch 16/20\n",
      "787/787 [==============================] - 0s 227us/sample - loss: 0.1780 - accuracy: 0.9416 - val_loss: 0.2271 - val_accuracy: 0.9086\n",
      "Epoch 17/20\n",
      "787/787 [==============================] - 0s 182us/sample - loss: 0.1893 - accuracy: 0.9352 - val_loss: 0.2194 - val_accuracy: 0.9036\n",
      "Epoch 18/20\n",
      "787/787 [==============================] - 0s 188us/sample - loss: 0.1829 - accuracy: 0.9466 - val_loss: 0.2144 - val_accuracy: 0.9086\n",
      "Epoch 19/20\n",
      "787/787 [==============================] - 0s 203us/sample - loss: 0.1805 - accuracy: 0.9352 - val_loss: 0.2101 - val_accuracy: 0.9086\n",
      "Epoch 20/20\n",
      "787/787 [==============================] - 0s 187us/sample - loss: 0.1638 - accuracy: 0.9352 - val_loss: 0.2108 - val_accuracy: 0.9086\n"
     ]
    }
   ],
   "source": [
    "history = model.fit(X_train, y_train, epochs=epochs, validation_data=(X_test, y_test), verbose=1)"
   ]
  },
  {
   "cell_type": "code",
   "execution_count": 26,
   "metadata": {},
   "outputs": [],
   "source": [
    "def plot_learningCurve(history, epoch):\n",
    "  # Plot training & validation accuracy values\n",
    "  epoch_range = range(1, epoch+1)\n",
    "  plt.plot(epoch_range, history.history['accuracy'])\n",
    "  plt.plot(epoch_range, history.history['val_accuracy'])\n",
    "  plt.title('Model accuracy')\n",
    "  plt.ylabel('Accuracy')\n",
    "  plt.xlabel('Epoch')\n",
    "  plt.legend(['Train', 'Val'], loc='upper left')\n",
    "  plt.show()\n",
    "\n",
    "  # Plot training & validation loss values\n",
    "  plt.plot(epoch_range, history.history['loss'])\n",
    "  plt.plot(epoch_range, history.history['val_loss'])\n",
    "  plt.title('Model loss')\n",
    "  plt.ylabel('Loss')\n",
    "  plt.xlabel('Epoch')\n",
    "  plt.legend(['Train', 'Val'], loc='upper left')\n",
    "  plt.show()"
   ]
  },
  {
   "cell_type": "code",
   "execution_count": 27,
   "metadata": {},
   "outputs": [
    {
     "data": {
      "image/png": "[encoded data removed]",
      "text/plain": [
       "<Figure size 432x288 with 1 Axes>"
      ]
     },
     "metadata": {
      "needs_background": "light"
     },
     "output_type": "display_data"
    },
    {
     "data": {
      "image/png": "[encoded data removed]",
      "text/plain": [
       "<Figure size 432x288 with 1 Axes>"
      ]
     },
     "metadata": {
      "needs_background": "light"
     },
     "output_type": "display_data"
    }
   ],
   "source": [
    "plot_learningCurve(history, epochs)"
   ]
  },
  {
   "cell_type": "code",
   "execution_count": null,
   "metadata": {},
   "outputs": [],
   "source": []
  },
  {
   "cell_type": "markdown",
   "metadata": {},
   "source": [
    "### Adding MaxPool "
   ]
  },
  {
   "cell_type": "code",
   "execution_count": 33,
   "metadata": {},
   "outputs": [
    {
     "name": "stdout",
     "output_type": "stream",
     "text": [
      "Train on 787 samples, validate on 197 samples\n",
      "Epoch 1/50\n",
      "787/787 [==============================] - 2s 2ms/sample - loss: 1.1020 - accuracy: 0.5578 - val_loss: 0.6766 - val_accuracy: 0.5330\n",
      "Epoch 2/50\n",
      "787/787 [==============================] - 0s 203us/sample - loss: 0.8175 - accuracy: 0.6379 - val_loss: 0.6338 - val_accuracy: 0.7411\n",
      "Epoch 3/50\n",
      "787/787 [==============================] - 0s 196us/sample - loss: 0.7102 - accuracy: 0.6811 - val_loss: 0.5959 - val_accuracy: 0.7716\n",
      "Epoch 4/50\n",
      "787/787 [==============================] - 0s 196us/sample - loss: 0.6062 - accuracy: 0.7510 - val_loss: 0.5602 - val_accuracy: 0.7970\n",
      "Epoch 5/50\n",
      "787/787 [==============================] - 0s 197us/sample - loss: 0.5300 - accuracy: 0.7687 - val_loss: 0.5268 - val_accuracy: 0.8020\n",
      "Epoch 6/50\n",
      "787/787 [==============================] - 0s 204us/sample - loss: 0.5243 - accuracy: 0.7840 - val_loss: 0.4918 - val_accuracy: 0.8325\n",
      "Epoch 7/50\n",
      "787/787 [==============================] - 0s 217us/sample - loss: 0.5553 - accuracy: 0.7992 - val_loss: 0.4584 - val_accuracy: 0.8426\n",
      "Epoch 8/50\n",
      "787/787 [==============================] - 0s 216us/sample - loss: 0.4727 - accuracy: 0.7802 - val_loss: 0.4261 - val_accuracy: 0.8528\n",
      "Epoch 9/50\n",
      "787/787 [==============================] - 0s 222us/sample - loss: 0.4551 - accuracy: 0.8208 - val_loss: 0.3972 - val_accuracy: 0.8579\n",
      "Epoch 10/50\n",
      "787/787 [==============================] - 0s 216us/sample - loss: 0.4387 - accuracy: 0.8196 - val_loss: 0.3710 - val_accuracy: 0.8629\n",
      "Epoch 11/50\n",
      "787/787 [==============================] - 0s 194us/sample - loss: 0.3938 - accuracy: 0.8297 - val_loss: 0.3500 - val_accuracy: 0.8629\n",
      "Epoch 12/50\n",
      "787/787 [==============================] - 0s 194us/sample - loss: 0.3911 - accuracy: 0.8488 - val_loss: 0.3322 - val_accuracy: 0.8629\n",
      "Epoch 13/50\n",
      "787/787 [==============================] - 0s 201us/sample - loss: 0.3984 - accuracy: 0.8590 - val_loss: 0.3183 - val_accuracy: 0.8680\n",
      "Epoch 14/50\n",
      "787/787 [==============================] - 0s 216us/sample - loss: 0.3784 - accuracy: 0.8767 - val_loss: 0.3063 - val_accuracy: 0.8680\n",
      "Epoch 15/50\n",
      "787/787 [==============================] - 0s 203us/sample - loss: 0.3806 - accuracy: 0.8691 - val_loss: 0.2976 - val_accuracy: 0.8680\n",
      "Epoch 16/50\n",
      "787/787 [==============================] - 0s 223us/sample - loss: 0.3605 - accuracy: 0.8666 - val_loss: 0.2918 - val_accuracy: 0.8832\n",
      "Epoch 17/50\n",
      "787/787 [==============================] - 0s 210us/sample - loss: 0.3881 - accuracy: 0.8501 - val_loss: 0.2870 - val_accuracy: 0.8934\n",
      "Epoch 18/50\n",
      "787/787 [==============================] - 0s 196us/sample - loss: 0.3314 - accuracy: 0.8856 - val_loss: 0.2868 - val_accuracy: 0.8985\n",
      "Epoch 19/50\n",
      "787/787 [==============================] - 0s 190us/sample - loss: 0.3690 - accuracy: 0.8755 - val_loss: 0.2820 - val_accuracy: 0.8985\n",
      "Epoch 20/50\n",
      "787/787 [==============================] - 0s 194us/sample - loss: 0.3454 - accuracy: 0.8780 - val_loss: 0.2805 - val_accuracy: 0.9086\n",
      "Epoch 21/50\n",
      "787/787 [==============================] - 0s 221us/sample - loss: 0.3340 - accuracy: 0.8895 - val_loss: 0.2770 - val_accuracy: 0.9086\n",
      "Epoch 22/50\n",
      "787/787 [==============================] - 0s 221us/sample - loss: 0.3296 - accuracy: 0.8844 - val_loss: 0.2755 - val_accuracy: 0.9137\n",
      "Epoch 23/50\n",
      "787/787 [==============================] - 0s 199us/sample - loss: 0.2552 - accuracy: 0.9072 - val_loss: 0.2762 - val_accuracy: 0.9137\n",
      "Epoch 24/50\n",
      "787/787 [==============================] - 0s 204us/sample - loss: 0.3131 - accuracy: 0.8895 - val_loss: 0.2765 - val_accuracy: 0.9137\n",
      "Epoch 25/50\n",
      "787/787 [==============================] - 0s 213us/sample - loss: 0.3371 - accuracy: 0.8767 - val_loss: 0.2763 - val_accuracy: 0.9137\n",
      "Epoch 26/50\n",
      "787/787 [==============================] - 0s 202us/sample - loss: 0.3286 - accuracy: 0.8793 - val_loss: 0.2748 - val_accuracy: 0.9137\n",
      "Epoch 27/50\n",
      "787/787 [==============================] - 0s 204us/sample - loss: 0.2882 - accuracy: 0.8907 - val_loss: 0.2708 - val_accuracy: 0.9137\n",
      "Epoch 28/50\n",
      "787/787 [==============================] - 0s 221us/sample - loss: 0.3065 - accuracy: 0.8983 - val_loss: 0.2697 - val_accuracy: 0.9137\n",
      "Epoch 29/50\n",
      "787/787 [==============================] - 0s 201us/sample - loss: 0.2984 - accuracy: 0.8971 - val_loss: 0.2696 - val_accuracy: 0.9137\n",
      "Epoch 30/50\n",
      "787/787 [==============================] - 0s 231us/sample - loss: 0.2769 - accuracy: 0.9085 - val_loss: 0.2691 - val_accuracy: 0.9137\n",
      "Epoch 31/50\n",
      "787/787 [==============================] - 0s 258us/sample - loss: 0.2923 - accuracy: 0.8945 - val_loss: 0.2683 - val_accuracy: 0.9137\n",
      "Epoch 32/50\n",
      "787/787 [==============================] - 0s 241us/sample - loss: 0.2961 - accuracy: 0.8945 - val_loss: 0.2658 - val_accuracy: 0.9137\n",
      "Epoch 33/50\n",
      "787/787 [==============================] - 0s 227us/sample - loss: 0.2881 - accuracy: 0.8933 - val_loss: 0.2636 - val_accuracy: 0.9137\n",
      "Epoch 34/50\n",
      "787/787 [==============================] - 0s 222us/sample - loss: 0.2823 - accuracy: 0.8882 - val_loss: 0.2611 - val_accuracy: 0.9137\n",
      "Epoch 35/50\n",
      "787/787 [==============================] - 0s 244us/sample - loss: 0.2652 - accuracy: 0.9123 - val_loss: 0.2592 - val_accuracy: 0.9137\n",
      "Epoch 36/50\n",
      "787/787 [==============================] - 0s 249us/sample - loss: 0.2650 - accuracy: 0.9072 - val_loss: 0.2581 - val_accuracy: 0.9137\n",
      "Epoch 37/50\n",
      "787/787 [==============================] - 0s 211us/sample - loss: 0.2729 - accuracy: 0.8945 - val_loss: 0.2594 - val_accuracy: 0.9137\n",
      "Epoch 38/50\n",
      "787/787 [==============================] - 0s 198us/sample - loss: 0.2550 - accuracy: 0.9047 - val_loss: 0.2584 - val_accuracy: 0.9137\n",
      "Epoch 39/50\n",
      "787/787 [==============================] - 0s 190us/sample - loss: 0.2493 - accuracy: 0.9161 - val_loss: 0.2599 - val_accuracy: 0.9137\n",
      "Epoch 40/50\n",
      "787/787 [==============================] - 0s 188us/sample - loss: 0.2378 - accuracy: 0.9098 - val_loss: 0.2568 - val_accuracy: 0.9137\n",
      "Epoch 41/50\n",
      "787/787 [==============================] - 0s 207us/sample - loss: 0.2616 - accuracy: 0.9047 - val_loss: 0.2544 - val_accuracy: 0.9137\n",
      "Epoch 42/50\n",
      "787/787 [==============================] - 0s 213us/sample - loss: 0.2136 - accuracy: 0.9174 - val_loss: 0.2537 - val_accuracy: 0.9137\n",
      "Epoch 43/50\n",
      "787/787 [==============================] - 0s 194us/sample - loss: 0.2545 - accuracy: 0.9111 - val_loss: 0.2522 - val_accuracy: 0.9137\n",
      "Epoch 44/50\n",
      "787/787 [==============================] - 0s 223us/sample - loss: 0.2420 - accuracy: 0.9174 - val_loss: 0.2494 - val_accuracy: 0.9137\n",
      "Epoch 45/50\n",
      "787/787 [==============================] - 0s 211us/sample - loss: 0.2494 - accuracy: 0.9187 - val_loss: 0.2509 - val_accuracy: 0.9137\n",
      "Epoch 46/50\n",
      "787/787 [==============================] - 0s 212us/sample - loss: 0.2390 - accuracy: 0.9136 - val_loss: 0.2498 - val_accuracy: 0.9137\n",
      "Epoch 47/50\n",
      "787/787 [==============================] - 0s 225us/sample - loss: 0.2490 - accuracy: 0.9111 - val_loss: 0.2466 - val_accuracy: 0.9137\n",
      "Epoch 48/50\n",
      "787/787 [==============================] - 0s 210us/sample - loss: 0.2435 - accuracy: 0.9149 - val_loss: 0.2443 - val_accuracy: 0.9137\n",
      "Epoch 49/50\n",
      "787/787 [==============================] - 0s 192us/sample - loss: 0.2413 - accuracy: 0.9136 - val_loss: 0.2453 - val_accuracy: 0.9137\n",
      "Epoch 50/50\n",
      "787/787 [==============================] - 0s 194us/sample - loss: 0.2445 - accuracy: 0.9123 - val_loss: 0.2449 - val_accuracy: 0.9137\n"
     ]
    },
    {
     "data": {
      "image/png": "[encoded data removed]",
      "text/plain": [
       "<Figure size 432x288 with 1 Axes>"
      ]
     },
     "metadata": {
      "needs_background": "light"
     },
     "output_type": "display_data"
    },
    {
     "data": {
      "image/png": "[encoded data removed]",
      "text/plain": [
       "<Figure size 432x288 with 1 Axes>"
      ]
     },
     "metadata": {
      "needs_background": "light"
     },
     "output_type": "display_data"
    }
   ],
   "source": [
    "epochs = 50\n",
    "model = Sequential()\n",
    "model.add(Conv1D(32, 2, activation='relu', input_shape = X_train[0].shape))\n",
    "model.add(BatchNormalization())\n",
    "model.add(MaxPool1D(2))\n",
    "model.add(Dropout(0.2))\n",
    "\n",
    "model.add(Conv1D(64, 2, activation='relu'))\n",
    "model.add(BatchNormalization())\n",
    "model.add(MaxPool1D(2))\n",
    "model.add(Dropout(0.5))\n",
    "\n",
    "model.add(Flatten())\n",
    "model.add(Dense(64, activation='relu'))\n",
    "model.add(Dropout(0.5))\n",
    "\n",
    "model.add(Dense(1, activation='sigmoid'))\n",
    "\n",
    "model.compile(optimizer=Adam(lr=0.0001), loss = 'binary_crossentropy', metrics=['accuracy'])\n",
    "history = model.fit(X_train, y_train, epochs=epochs, validation_data=(X_test, y_test), verbose=1)\n",
    "plot_learningCurve(history, epochs)"
   ]
  }
 ],
 "metadata": {
  "kernelspec": {
   "display_name": "Python 3.6 (tensorflow)",
   "language": "python",
   "name": "tensorflow"
  },
  "language_info": {
   "codemirror_mode": {
    "name": "ipython",
    "version": 3
   },
   "file_extension": ".py",
   "mimetype": "text/x-python",
   "name": "python",
   "nbconvert_exporter": "python",
   "pygments_lexer": "ipython3",
   "version": "3.6.9"
  }
 },
 "nbformat": 4,
 "nbformat_minor": 2
}
